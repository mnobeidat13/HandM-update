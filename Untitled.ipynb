{
 "cells": [
  {
   "cell_type": "code",
   "execution_count": 1,
   "id": "resistant-excess",
   "metadata": {},
   "outputs": [],
   "source": [
    "import tensorflow_hub as hub\n",
    "import pandas as pd"
   ]
  },
  {
   "cell_type": "code",
   "execution_count": 5,
   "id": "korean-guess",
   "metadata": {},
   "outputs": [
    {
     "name": "stderr",
     "output_type": "stream",
     "text": [
      "WARNING:absl:Deleting lock file C:\\Users\\Administrator.DESKTOP-KFPJLPE\\AppData\\Local\\Temp\\tfhub_modules\\063d866c06683311b44b4992fd46003be952409c.lock due to inactivity.\n"
     ]
    }
   ],
   "source": [
    "module_url = \"https://tfhub.dev/google/universal-sentence-encoder/4\" #@param [\"https://tfhub.dev/google/universal-sentence-encoder/4\", \"https://tfhub.dev/google/universal-sentence-encoder-large/5\"]\n",
    "model = hub.load(module_url)"
   ]
  },
  {
   "cell_type": "code",
   "execution_count": 3,
   "id": "biological-cassette",
   "metadata": {},
   "outputs": [],
   "source": [
    "df = pd.read_csv('articles.csv')"
   ]
  },
  {
   "cell_type": "code",
   "execution_count": 9,
   "id": "increased-reverse",
   "metadata": {},
   "outputs": [],
   "source": [
    "from os import listdir\n",
    "from os.path import isfile, join\n",
    "mypath = 'f:/notebooks/recommedner/Deployment/repo1/HandM/results/images'\n",
    "onlyfiles = [f for f in listdir(mypath) if isfile(join(mypath, f))]"
   ]
  },
  {
   "cell_type": "code",
   "execution_count": 13,
   "id": "ethical-membrane",
   "metadata": {},
   "outputs": [],
   "source": [
    "with open(r'f:/notebooks/recommedner/Deployment/repo1/HandM/images.txt', 'w') as fp:\n",
    "    for item in onlyfiles:\n",
    "        fp.write(\"0%s\\n\" % item)"
   ]
  },
  {
   "cell_type": "code",
   "execution_count": 21,
   "id": "quarterly-version",
   "metadata": {},
   "outputs": [],
   "source": [
    "c = pd.read_csv('f:/notebooks/recommedner/Deployment/repo1/HandM/caption_desc_embeds.csv', dtype={'id':str}).drop('Unnamed: 0', axis=1)"
   ]
  },
  {
   "cell_type": "code",
   "execution_count": 25,
   "id": "coupled-morgan",
   "metadata": {},
   "outputs": [
    {
     "data": {
      "text/plain": [
       "'0189654001'"
      ]
     },
     "execution_count": 25,
     "metadata": {},
     "output_type": "execute_result"
    }
   ],
   "source": [
    "import numpy as np\n",
    "np.random.choice(c.id)"
   ]
  },
  {
   "cell_type": "code",
   "execution_count": null,
   "id": "corresponding-charity",
   "metadata": {},
   "outputs": [],
   "source": []
  }
 ],
 "metadata": {
  "kernelspec": {
   "display_name": "Python 3",
   "language": "python",
   "name": "python3"
  },
  "language_info": {
   "codemirror_mode": {
    "name": "ipython",
    "version": 3
   },
   "file_extension": ".py",
   "mimetype": "text/x-python",
   "name": "python",
   "nbconvert_exporter": "python",
   "pygments_lexer": "ipython3",
   "version": "3.7.1"
  }
 },
 "nbformat": 4,
 "nbformat_minor": 5
}
